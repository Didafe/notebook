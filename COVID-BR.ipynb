{
    "cells": [
        {
            "cell_type": "code",
            "execution_count": 19,
            "metadata": {},
            "outputs": [],
            "source": "import pandas as pd\nfrom sqlalchemy import create_engine, MetaData, Table, Column, Integer, String, Date, Numeric, DateTime\nfrom sqlalchemy.orm import scoped_session, sessionmaker\nfrom sqlalchemy.ext.automap  import automap_base"
        },
        {
            "cell_type": "code",
            "execution_count": 20,
            "metadata": {},
            "outputs": [],
            "source": "# The code was removed by Watson Studio for sharing."
        },
        {
            "cell_type": "code",
            "execution_count": 21,
            "metadata": {},
            "outputs": [],
            "source": "\nengine = create_engine(connection_string, echo=False)\nmeta = MetaData()\n\nnome_tabela = 'COVID-BR'\n\ncovid = Table('COVID-BR', meta, \n    Column(\"COUNTRY\", String(30)),\n    Column(\"PROVINCE_STATE\", String(50)),\n    Column(\"CITY\", String(50)),\n    Column(\"IBGEID\", Integer),\n    Column(\"DEATHS\", Integer),\n    Column(\"CASES\", Integer),\n    Column(\"DEATHS_PER_100K_INHABITANTS\", Numeric(18,8)),\n    Column(\"TOTALCASES_PER_100K_INHABITANTS\", Numeric(18,8)),\n    Column(\"DEATHS_BY_TOTALCASES\", Numeric(18,8)),\n    Column(\"SOURCE\", String(10)),\n    Column(\"DATE\", Date),\n    Column(\"NEWCASES\", Integer),\n    Column(\"NEWDEATHS\",Integer))\n\n# date\tnewCases\tnewDeaths\n#'DEATHS_PER_100K_INHABITANTS','TOTALCASES_PER_100K_INHABITANTS','DEATHS_BY_TOTALCASES'\n\ndropTable = True\n\nif not engine.dialect.has_table(engine, nome_tabela, schema = 'BLUADMIN'):\n    meta.create_all(engine)\nelse:\n    if dropTable:\n        covid.drop(engine) # Apaga tabela\n        meta.create_all(engine) # Cria tabela\n    conn = engine.connect()\n    #stmt = covid.delete().where(students.c.lastname == 'Khanna')\n    stmt = covid.delete()\n    conn.execute(stmt)\n    conn.close()"
        },
        {
            "cell_type": "code",
            "execution_count": 22,
            "metadata": {},
            "outputs": [],
            "source": "Base = automap_base()\n# connection_string = \"db2+ibm_db://user:pass@host[:port]/database\"\n#connection_string = \"db2+ibm_db://tfn53947:9pwx9bjsmt^grb8h@dashdb-txn-sbox-yp-dal09-03.services.dal.bluemix.net:50000/BLUDB\"\n\n#engine = create_engine(connection_string, echo=True)\nsession = scoped_session(sessionmaker(autocommit=True,\n                                      autoflush=False,\n                                      bind=engine))\n\nBase.prepare(engine, reflect=True)\nbase_sa = Base.classes"
        },
        {
            "cell_type": "code",
            "execution_count": 23,
            "metadata": {},
            "outputs": [
                {
                    "data": {
                        "text/html": "<div>\n<style scoped>\n    .dataframe tbody tr th:only-of-type {\n        vertical-align: middle;\n    }\n\n    .dataframe tbody tr th {\n        vertical-align: top;\n    }\n\n    .dataframe thead th {\n        text-align: right;\n    }\n</style>\n<table border=\"1\" class=\"dataframe\">\n  <thead>\n    <tr style=\"text-align: right;\">\n      <th></th>\n      <th>country</th>\n      <th>state</th>\n      <th>city</th>\n      <th>ibgeID</th>\n      <th>deaths</th>\n      <th>totalCases</th>\n      <th>deaths_per_100k_inhabitants</th>\n      <th>totalCases_per_100k_inhabitants</th>\n      <th>deaths_by_totalCases</th>\n      <th>_source</th>\n      <th>date</th>\n      <th>newCases</th>\n      <th>newDeaths</th>\n    </tr>\n  </thead>\n  <tbody>\n    <tr>\n      <th>0</th>\n      <td>Brazil</td>\n      <td>MG</td>\n      <td>Abadia dos Dourados/MG</td>\n      <td>3100104</td>\n      <td>0</td>\n      <td>5</td>\n      <td>0.00000</td>\n      <td>71.54099</td>\n      <td>0.00000</td>\n      <td>MS</td>\n      <td>2020-05-20</td>\n      <td>0</td>\n      <td>0</td>\n    </tr>\n    <tr>\n      <th>1</th>\n      <td>Brazil</td>\n      <td>PA</td>\n      <td>Abaetetuba/PA</td>\n      <td>1500107</td>\n      <td>15</td>\n      <td>467</td>\n      <td>9.51185</td>\n      <td>296.13565</td>\n      <td>0.03212</td>\n      <td>MS</td>\n      <td>2020-05-20</td>\n      <td>25</td>\n      <td>0</td>\n    </tr>\n    <tr>\n      <th>2</th>\n      <td>Brazil</td>\n      <td>MG</td>\n      <td>Abaet\u00e9/MG</td>\n      <td>3100203</td>\n      <td>0</td>\n      <td>1</td>\n      <td>0.00000</td>\n      <td>4.30348</td>\n      <td>0.00000</td>\n      <td>MS</td>\n      <td>2020-05-20</td>\n      <td>0</td>\n      <td>0</td>\n    </tr>\n    <tr>\n      <th>3</th>\n      <td>Brazil</td>\n      <td>CE</td>\n      <td>Abaiara/CE</td>\n      <td>2300101</td>\n      <td>0</td>\n      <td>1</td>\n      <td>0.00000</td>\n      <td>8.52006</td>\n      <td>0.00000</td>\n      <td>MS</td>\n      <td>2020-05-20</td>\n      <td>0</td>\n      <td>0</td>\n    </tr>\n    <tr>\n      <th>4</th>\n      <td>Brazil</td>\n      <td>BA</td>\n      <td>Abar\u00e9/BA</td>\n      <td>2900207</td>\n      <td>0</td>\n      <td>0</td>\n      <td>0.00000</td>\n      <td>0.00000</td>\n      <td>0.00000</td>\n      <td>MS</td>\n      <td>2020-05-20</td>\n      <td>0</td>\n      <td>0</td>\n    </tr>\n  </tbody>\n</table>\n</div>",
                        "text/plain": "  country state                    city   ibgeID  deaths  totalCases  \\\n0  Brazil    MG  Abadia dos Dourados/MG  3100104       0           5   \n1  Brazil    PA           Abaetetuba/PA  1500107      15         467   \n2  Brazil    MG               Abaet\u00e9/MG  3100203       0           1   \n3  Brazil    CE              Abaiara/CE  2300101       0           1   \n4  Brazil    BA                Abar\u00e9/BA  2900207       0           0   \n\n   deaths_per_100k_inhabitants  totalCases_per_100k_inhabitants  \\\n0                      0.00000                         71.54099   \n1                      9.51185                        296.13565   \n2                      0.00000                          4.30348   \n3                      0.00000                          8.52006   \n4                      0.00000                          0.00000   \n\n   deaths_by_totalCases _source        date  newCases  newDeaths  \n0               0.00000      MS  2020-05-20         0          0  \n1               0.03212      MS  2020-05-20        25          0  \n2               0.00000      MS  2020-05-20         0          0  \n3               0.00000      MS  2020-05-20         0          0  \n4               0.00000      MS  2020-05-20         0          0  "
                    },
                    "execution_count": 23,
                    "metadata": {},
                    "output_type": "execute_result"
                }
            ],
            "source": "df = pd.read_csv('https://raw.githubusercontent.com/wcota/covid19br/master/cases-brazil-cities.csv')\ndf.head()"
        },
        {
            "cell_type": "code",
            "execution_count": 24,
            "metadata": {},
            "outputs": [
                {
                    "data": {
                        "text/html": "<div>\n<style scoped>\n    .dataframe tbody tr th:only-of-type {\n        vertical-align: middle;\n    }\n\n    .dataframe tbody tr th {\n        vertical-align: top;\n    }\n\n    .dataframe thead th {\n        text-align: right;\n    }\n</style>\n<table border=\"1\" class=\"dataframe\">\n  <thead>\n    <tr style=\"text-align: right;\">\n      <th></th>\n      <th>COUNTRY</th>\n      <th>PROVINCE_STATE</th>\n      <th>CITY</th>\n      <th>IBGEID</th>\n      <th>DEATHS</th>\n      <th>CASES</th>\n      <th>DEATHS_PER_100K_INHABITANTS</th>\n      <th>TOTALCASES_PER_100K_INHABITANTS</th>\n      <th>DEATHS_BY_TOTALCASES</th>\n      <th>SOURCE</th>\n      <th>DATE</th>\n      <th>NEWCASES</th>\n      <th>NEWDEATHS</th>\n    </tr>\n  </thead>\n  <tbody>\n    <tr>\n      <th>0</th>\n      <td>Brazil</td>\n      <td>MG</td>\n      <td>Abadia dos Dourados/MG</td>\n      <td>3100104</td>\n      <td>0</td>\n      <td>5</td>\n      <td>0.00000</td>\n      <td>71.54099</td>\n      <td>0.00000</td>\n      <td>MS</td>\n      <td>2020-05-20</td>\n      <td>0</td>\n      <td>0</td>\n    </tr>\n    <tr>\n      <th>1</th>\n      <td>Brazil</td>\n      <td>PA</td>\n      <td>Abaetetuba/PA</td>\n      <td>1500107</td>\n      <td>15</td>\n      <td>467</td>\n      <td>9.51185</td>\n      <td>296.13565</td>\n      <td>0.03212</td>\n      <td>MS</td>\n      <td>2020-05-20</td>\n      <td>25</td>\n      <td>0</td>\n    </tr>\n    <tr>\n      <th>2</th>\n      <td>Brazil</td>\n      <td>MG</td>\n      <td>Abaet\u00e9/MG</td>\n      <td>3100203</td>\n      <td>0</td>\n      <td>1</td>\n      <td>0.00000</td>\n      <td>4.30348</td>\n      <td>0.00000</td>\n      <td>MS</td>\n      <td>2020-05-20</td>\n      <td>0</td>\n      <td>0</td>\n    </tr>\n    <tr>\n      <th>3</th>\n      <td>Brazil</td>\n      <td>CE</td>\n      <td>Abaiara/CE</td>\n      <td>2300101</td>\n      <td>0</td>\n      <td>1</td>\n      <td>0.00000</td>\n      <td>8.52006</td>\n      <td>0.00000</td>\n      <td>MS</td>\n      <td>2020-05-20</td>\n      <td>0</td>\n      <td>0</td>\n    </tr>\n    <tr>\n      <th>4</th>\n      <td>Brazil</td>\n      <td>BA</td>\n      <td>Abar\u00e9/BA</td>\n      <td>2900207</td>\n      <td>0</td>\n      <td>0</td>\n      <td>0.00000</td>\n      <td>0.00000</td>\n      <td>0.00000</td>\n      <td>MS</td>\n      <td>2020-05-20</td>\n      <td>0</td>\n      <td>0</td>\n    </tr>\n  </tbody>\n</table>\n</div>",
                        "text/plain": "  COUNTRY PROVINCE_STATE                    CITY   IBGEID  DEATHS  CASES  \\\n0  Brazil             MG  Abadia dos Dourados/MG  3100104       0      5   \n1  Brazil             PA           Abaetetuba/PA  1500107      15    467   \n2  Brazil             MG               Abaet\u00e9/MG  3100203       0      1   \n3  Brazil             CE              Abaiara/CE  2300101       0      1   \n4  Brazil             BA                Abar\u00e9/BA  2900207       0      0   \n\n   DEATHS_PER_100K_INHABITANTS  TOTALCASES_PER_100K_INHABITANTS  \\\n0                      0.00000                         71.54099   \n1                      9.51185                        296.13565   \n2                      0.00000                          4.30348   \n3                      0.00000                          8.52006   \n4                      0.00000                          0.00000   \n\n   DEATHS_BY_TOTALCASES SOURCE        DATE  NEWCASES  NEWDEATHS  \n0               0.00000     MS  2020-05-20         0          0  \n1               0.03212     MS  2020-05-20        25          0  \n2               0.00000     MS  2020-05-20         0          0  \n3               0.00000     MS  2020-05-20         0          0  \n4               0.00000     MS  2020-05-20         0          0  "
                    },
                    "execution_count": 24,
                    "metadata": {},
                    "output_type": "execute_result"
                }
            ],
            "source": "df.columns = ['COUNTRY','PROVINCE_STATE','CITY',\n                     'IBGEID','DEATHS','CASES','DEATHS_PER_100K_INHABITANTS',\n              'TOTALCASES_PER_100K_INHABITANTS','DEATHS_BY_TOTALCASES','SOURCE','DATE',\n              'NEWCASES','NEWDEATHS']\ndf.head()"
        },
        {
            "cell_type": "code",
            "execution_count": 25,
            "metadata": {},
            "outputs": [],
            "source": "nome_tabela = 'COVID-BR'"
        },
        {
            "cell_type": "code",
            "execution_count": 26,
            "metadata": {
                "scrolled": true
            },
            "outputs": [],
            "source": "df.to_sql(name=nome_tabela, con=engine, if_exists='append', index=False)\n#df.to_sql(name=nome_tabela, con=engine, if_exists='append', index=False, chunksize=1000)   # With number of records to be processed each time"
        },
        {
            "cell_type": "code",
            "execution_count": 27,
            "metadata": {},
            "outputs": [
                {
                    "data": {
                        "text/html": "<div>\n<style scoped>\n    .dataframe tbody tr th:only-of-type {\n        vertical-align: middle;\n    }\n\n    .dataframe tbody tr th {\n        vertical-align: top;\n    }\n\n    .dataframe thead th {\n        text-align: right;\n    }\n</style>\n<table border=\"1\" class=\"dataframe\">\n  <thead>\n    <tr style=\"text-align: right;\">\n      <th></th>\n      <th>country</th>\n      <th>province_state</th>\n      <th>city</th>\n      <th>ibgeid</th>\n      <th>deaths</th>\n      <th>cases</th>\n      <th>deaths_per_100k_inhabitants</th>\n      <th>totalcases_per_100k_inhabitants</th>\n      <th>deaths_by_totalcases</th>\n      <th>SOURCE</th>\n      <th>DATE</th>\n      <th>newcases</th>\n      <th>newdeaths</th>\n    </tr>\n  </thead>\n  <tbody>\n    <tr>\n      <th>0</th>\n      <td>Brazil</td>\n      <td>MG</td>\n      <td>Abadia dos Dourados/MG</td>\n      <td>3100104</td>\n      <td>0</td>\n      <td>5</td>\n      <td>0.00000</td>\n      <td>71.54099</td>\n      <td>0.00000</td>\n      <td>MS</td>\n      <td>2020-05-20</td>\n      <td>0</td>\n      <td>0</td>\n    </tr>\n    <tr>\n      <th>1</th>\n      <td>Brazil</td>\n      <td>PA</td>\n      <td>Abaetetuba/PA</td>\n      <td>1500107</td>\n      <td>15</td>\n      <td>467</td>\n      <td>9.51185</td>\n      <td>296.13565</td>\n      <td>0.03212</td>\n      <td>MS</td>\n      <td>2020-05-20</td>\n      <td>25</td>\n      <td>0</td>\n    </tr>\n    <tr>\n      <th>2</th>\n      <td>Brazil</td>\n      <td>MG</td>\n      <td>Abaet\u00e9/MG</td>\n      <td>3100203</td>\n      <td>0</td>\n      <td>1</td>\n      <td>0.00000</td>\n      <td>4.30348</td>\n      <td>0.00000</td>\n      <td>MS</td>\n      <td>2020-05-20</td>\n      <td>0</td>\n      <td>0</td>\n    </tr>\n    <tr>\n      <th>3</th>\n      <td>Brazil</td>\n      <td>CE</td>\n      <td>Abaiara/CE</td>\n      <td>2300101</td>\n      <td>0</td>\n      <td>1</td>\n      <td>0.00000</td>\n      <td>8.52006</td>\n      <td>0.00000</td>\n      <td>MS</td>\n      <td>2020-05-20</td>\n      <td>0</td>\n      <td>0</td>\n    </tr>\n    <tr>\n      <th>4</th>\n      <td>Brazil</td>\n      <td>BA</td>\n      <td>Abar\u00e9/BA</td>\n      <td>2900207</td>\n      <td>0</td>\n      <td>0</td>\n      <td>0.00000</td>\n      <td>0.00000</td>\n      <td>0.00000</td>\n      <td>MS</td>\n      <td>2020-05-20</td>\n      <td>0</td>\n      <td>0</td>\n    </tr>\n  </tbody>\n</table>\n</div>",
                        "text/plain": "  country province_state                    city   ibgeid  deaths  cases  \\\n0  Brazil             MG  Abadia dos Dourados/MG  3100104       0      5   \n1  Brazil             PA           Abaetetuba/PA  1500107      15    467   \n2  Brazil             MG               Abaet\u00e9/MG  3100203       0      1   \n3  Brazil             CE              Abaiara/CE  2300101       0      1   \n4  Brazil             BA                Abar\u00e9/BA  2900207       0      0   \n\n   deaths_per_100k_inhabitants  totalcases_per_100k_inhabitants  \\\n0                      0.00000                         71.54099   \n1                      9.51185                        296.13565   \n2                      0.00000                          4.30348   \n3                      0.00000                          8.52006   \n4                      0.00000                          0.00000   \n\n   deaths_by_totalcases SOURCE       DATE  newcases  newdeaths  \n0               0.00000     MS 2020-05-20         0          0  \n1               0.03212     MS 2020-05-20        25          0  \n2               0.00000     MS 2020-05-20         0          0  \n3               0.00000     MS 2020-05-20         0          0  \n4               0.00000     MS 2020-05-20         0          0  "
                    },
                    "execution_count": 27,
                    "metadata": {},
                    "output_type": "execute_result"
                }
            ],
            "source": "df2 = pd.read_sql_table(nome_tabela, engine)\ndf2.head()"
        },
        {
            "cell_type": "code",
            "execution_count": 28,
            "metadata": {},
            "outputs": [],
            "source": "session.close()"
        },
        {
            "cell_type": "code",
            "execution_count": null,
            "metadata": {},
            "outputs": [],
            "source": ""
        }
    ],
    "metadata": {
        "kernelspec": {
            "display_name": "Python 3.6",
            "language": "python",
            "name": "python3"
        },
        "language_info": {
            "codemirror_mode": {
                "name": "ipython",
                "version": 3
            },
            "file_extension": ".py",
            "mimetype": "text/x-python",
            "name": "python",
            "nbconvert_exporter": "python",
            "pygments_lexer": "ipython3",
            "version": "3.6.9"
        }
    },
    "nbformat": 4,
    "nbformat_minor": 1
}