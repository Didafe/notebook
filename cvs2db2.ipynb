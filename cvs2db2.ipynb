{
    "cells": [
        {
            "cell_type": "code",
            "execution_count": 1,
            "metadata": {},
            "outputs": [],
            "source": "import pandas as pd\nfrom sqlalchemy import create_engine, MetaData, Table, Column, Integer, String, Date, Numeric, DateTime\nfrom sqlalchemy.orm import scoped_session, sessionmaker\nfrom sqlalchemy.ext.automap import automap_base"
        },
        {
            "cell_type": "code",
            "execution_count": 2,
            "metadata": {},
            "outputs": [],
            "source": "# The code was removed by Watson Studio for sharing."
        },
        {
            "cell_type": "code",
            "execution_count": 3,
            "metadata": {},
            "outputs": [],
            "source": "\nengine = create_engine(connection_string, echo=False)\nmeta = MetaData()\n\nnome_tabela = 'COVID'\n\ncovid = Table('covid', meta, \n    Column(\"DATE\", Date),\n    Column(\"TYPE\", String(30)),\n    Column(\"CASES\", Integer),\n    Column(\"DIFFERENCE\", Integer),\n    Column(\"COUNTRY\", String(50)),\n    Column(\"PROVINCE_STATE\", String(50)), \n    Column(\"LAT\", Numeric(18,8)),\n    Column(\"LONG\", Numeric(18,8)),\n    Column(\"LATEST_DATE\", DateTime))\n\nif not engine.dialect.has_table(engine, nome_tabela, schema = 'BLUADMIN'):\n    meta.create_all(engine)\nelse:\n    conn = engine.connect()\n    #stmt = covid.delete().where(students.c.lastname == 'Khanna')\n    stmt = covid.delete()\n    conn.execute(stmt)\n    conn.close()"
        },
        {
            "cell_type": "code",
            "execution_count": 4,
            "metadata": {},
            "outputs": [],
            "source": "Base = automap_base()\n\n#engine = create_engine(connection_string, echo=True)\nsession = scoped_session(sessionmaker(autocommit=True,\n                                      autoflush=False,\n                                      bind=engine))\n\nBase.prepare(engine, reflect=True)\nbase_sa = Base.classes"
        },
        {
            "cell_type": "code",
            "execution_count": 5,
            "metadata": {},
            "outputs": [
                {
                    "data": {
                        "text/html": "<div>\n<style scoped>\n    .dataframe tbody tr th:only-of-type {\n        vertical-align: middle;\n    }\n\n    .dataframe tbody tr th {\n        vertical-align: top;\n    }\n\n    .dataframe thead th {\n        text-align: right;\n    }\n</style>\n<table border=\"1\" class=\"dataframe\">\n  <thead>\n    <tr style=\"text-align: right;\">\n      <th></th>\n      <th>DATE</th>\n      <th>TYPE</th>\n      <th>CASES</th>\n      <th>DIFFERENCE</th>\n      <th>COUNTRY</th>\n      <th>PROVINCE_STATE</th>\n      <th>LAT</th>\n      <th>LONG</th>\n      <th>LATEST_DATE</th>\n    </tr>\n  </thead>\n  <tbody>\n    <tr>\n      <th>0</th>\n      <td>2020-05-20</td>\n      <td>Deaths</td>\n      <td>0</td>\n      <td>0</td>\n      <td>France</td>\n      <td>French Polynesia</td>\n      <td>-17.6797</td>\n      <td>149.4068</td>\n      <td>2020-05-20T23:29:52</td>\n    </tr>\n    <tr>\n      <th>1</th>\n      <td>2020-05-20</td>\n      <td>Deaths</td>\n      <td>15</td>\n      <td>0</td>\n      <td>Congo (Brazzaville)</td>\n      <td>NaN</td>\n      <td>-4.2634</td>\n      <td>15.2832</td>\n      <td>2020-05-20T23:29:52</td>\n    </tr>\n    <tr>\n      <th>2</th>\n      <td>2020-05-20</td>\n      <td>Confirmed</td>\n      <td>42</td>\n      <td>0</td>\n      <td>Burundi</td>\n      <td>NaN</td>\n      <td>-3.3731</td>\n      <td>29.9189</td>\n      <td>2020-05-20T23:29:52</td>\n    </tr>\n    <tr>\n      <th>3</th>\n      <td>2020-05-20</td>\n      <td>Deaths</td>\n      <td>9</td>\n      <td>0</td>\n      <td>China</td>\n      <td>Beijing</td>\n      <td>40.1824</td>\n      <td>116.4142</td>\n      <td>2020-05-20T23:29:52</td>\n    </tr>\n    <tr>\n      <th>4</th>\n      <td>2020-05-20</td>\n      <td>Confirmed</td>\n      <td>2467</td>\n      <td>21</td>\n      <td>Canada</td>\n      <td>British Columbia</td>\n      <td>53.7267</td>\n      <td>-127.6476</td>\n      <td>2020-05-20T23:29:52</td>\n    </tr>\n  </tbody>\n</table>\n</div>",
                        "text/plain": "         DATE       TYPE  CASES  DIFFERENCE              COUNTRY  \\\n0  2020-05-20     Deaths      0           0               France   \n1  2020-05-20     Deaths     15           0  Congo (Brazzaville)   \n2  2020-05-20  Confirmed     42           0              Burundi   \n3  2020-05-20     Deaths      9           0                China   \n4  2020-05-20  Confirmed   2467          21               Canada   \n\n     PROVINCE_STATE      LAT      LONG          LATEST_DATE  \n0  French Polynesia -17.6797  149.4068  2020-05-20T23:29:52  \n1               NaN  -4.2634   15.2832  2020-05-20T23:29:52  \n2               NaN  -3.3731   29.9189  2020-05-20T23:29:52  \n3           Beijing  40.1824  116.4142  2020-05-20T23:29:52  \n4  British Columbia  53.7267 -127.6476  2020-05-20T23:29:52  "
                    },
                    "execution_count": 5,
                    "metadata": {},
                    "output_type": "execute_result"
                }
            ],
            "source": "df = pd.read_csv('https://download.data.world/s/3xpcwdh7es3o6uqyztkkhdnh4ht7i7')\ndf.head()"
        },
        {
            "cell_type": "code",
            "execution_count": 6,
            "metadata": {},
            "outputs": [],
            "source": "nome_tabela = 'covid'"
        },
        {
            "cell_type": "code",
            "execution_count": 7,
            "metadata": {
                "scrolled": true
            },
            "outputs": [],
            "source": "df.to_sql(name=nome_tabela, con=engine, if_exists='append', index=False)\n#df.to_sql(name=nome_tabela, con=engine, if_exists='append', index=False, chunksize=1000)   # With number of records to be processed each time"
        },
        {
            "cell_type": "code",
            "execution_count": 8,
            "metadata": {},
            "outputs": [
                {
                    "data": {
                        "text/html": "<div>\n<style scoped>\n    .dataframe tbody tr th:only-of-type {\n        vertical-align: middle;\n    }\n\n    .dataframe tbody tr th {\n        vertical-align: top;\n    }\n\n    .dataframe thead th {\n        text-align: right;\n    }\n</style>\n<table border=\"1\" class=\"dataframe\">\n  <thead>\n    <tr style=\"text-align: right;\">\n      <th></th>\n      <th>DATE</th>\n      <th>TYPE</th>\n      <th>cases</th>\n      <th>difference</th>\n      <th>country</th>\n      <th>province_state</th>\n      <th>lat</th>\n      <th>LONG</th>\n      <th>latest_date</th>\n    </tr>\n  </thead>\n  <tbody>\n    <tr>\n      <th>0</th>\n      <td>2020-05-20</td>\n      <td>Deaths</td>\n      <td>4222</td>\n      <td>23</td>\n      <td>Turkey</td>\n      <td>None</td>\n      <td>38.963700</td>\n      <td>35.243300</td>\n      <td>2020-05-20 23:29:52</td>\n    </tr>\n    <tr>\n      <th>1</th>\n      <td>2020-05-20</td>\n      <td>Confirmed</td>\n      <td>746</td>\n      <td>8</td>\n      <td>Uruguay</td>\n      <td>None</td>\n      <td>-32.522800</td>\n      <td>-55.765800</td>\n      <td>2020-05-20 23:29:52</td>\n    </tr>\n    <tr>\n      <th>2</th>\n      <td>2020-05-20</td>\n      <td>Confirmed</td>\n      <td>2728</td>\n      <td>0</td>\n      <td>Sudan</td>\n      <td>None</td>\n      <td>12.862800</td>\n      <td>30.217600</td>\n      <td>2020-05-20 23:29:52</td>\n    </tr>\n    <tr>\n      <th>3</th>\n      <td>2020-05-20</td>\n      <td>Deaths</td>\n      <td>56</td>\n      <td>0</td>\n      <td>Thailand</td>\n      <td>None</td>\n      <td>15.870032</td>\n      <td>100.992541</td>\n      <td>2020-05-20 23:29:52</td>\n    </tr>\n    <tr>\n      <th>4</th>\n      <td>2020-05-20</td>\n      <td>Confirmed</td>\n      <td>71</td>\n      <td>1</td>\n      <td>Malawi</td>\n      <td>None</td>\n      <td>-13.254300</td>\n      <td>34.301500</td>\n      <td>2020-05-20 23:29:52</td>\n    </tr>\n  </tbody>\n</table>\n</div>",
                        "text/plain": "        DATE       TYPE  cases  difference   country province_state  \\\n0 2020-05-20     Deaths   4222          23    Turkey           None   \n1 2020-05-20  Confirmed    746           8   Uruguay           None   \n2 2020-05-20  Confirmed   2728           0     Sudan           None   \n3 2020-05-20     Deaths     56           0  Thailand           None   \n4 2020-05-20  Confirmed     71           1    Malawi           None   \n\n         lat        LONG         latest_date  \n0  38.963700   35.243300 2020-05-20 23:29:52  \n1 -32.522800  -55.765800 2020-05-20 23:29:52  \n2  12.862800   30.217600 2020-05-20 23:29:52  \n3  15.870032  100.992541 2020-05-20 23:29:52  \n4 -13.254300   34.301500 2020-05-20 23:29:52  "
                    },
                    "execution_count": 8,
                    "metadata": {},
                    "output_type": "execute_result"
                }
            ],
            "source": "df2 = pd.read_sql_table(nome_tabela, engine)\ndf2.head()"
        },
        {
            "cell_type": "code",
            "execution_count": 9,
            "metadata": {},
            "outputs": [],
            "source": "session.close()"
        },
        {
            "cell_type": "code",
            "execution_count": null,
            "metadata": {},
            "outputs": [],
            "source": ""
        }
    ],
    "metadata": {
        "kernelspec": {
            "display_name": "Python 3.6",
            "language": "python",
            "name": "python3"
        },
        "language_info": {
            "codemirror_mode": {
                "name": "ipython",
                "version": 3
            },
            "file_extension": ".py",
            "mimetype": "text/x-python",
            "name": "python",
            "nbconvert_exporter": "python",
            "pygments_lexer": "ipython3",
            "version": "3.6.9"
        }
    },
    "nbformat": 4,
    "nbformat_minor": 1
}